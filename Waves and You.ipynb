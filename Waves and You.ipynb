{
 "cells": [
  {
   "cell_type": "markdown",
   "metadata": {},
   "source": [
    "# Exploring Waves: The Carriers of Energy\n",
    "___"
   ]
  },
  {
   "cell_type": "markdown",
   "metadata": {},
   "source": [
    "## The Basics\n",
    "\n",
    "Waves are carriers of energy which require a medium$^1$. For example, a sound wave requires air in order to propagate from one point to another? \"*But why?*\" the curious young scholar may ask. That is simple. It is because when a vibartion is created, as it propagates-via molocules hitting one another, the molocules gradually lose energy. From our perspective, the time it takes for a soundwave to lose energy may seem short. However, from the perspective of something about $1.1810907372958928 \\times 10^{-05} m$\n",
    " smaller than the width of a single strand of hair.$*$ More effectively, a molocule is about $4 \\times 10^{-10}m$ $^2$ is *far* smaller than $3.3867 \\times 10^{-5}m$.$^3$ Waves all have distinct characteristics that will affect how it works. Which are Amplitude ($A$), Wavelength ($\\lambda$), Frequency ($\\omega$), Velocity ($v$) and Period ($t$). Each wave (assuming it is a transverse or sine/cosine wave) has a crest and a trough. The crest is the highest point (or *maxima*) of a wave; and the trough is the lowest point (or *minima*) in a wave.\n",
    "\n",
    "### Some equations you should know\n",
    "\n",
    "##### Wavelength\n",
    "\n",
    "$$\\lambda = \\frac{v}{\\omega}$$\n",
    "\n",
    "##### Frequency\n",
    "\n",
    "- *in terms of wavelength*\n",
    "\n",
    "$$\\omega = \\frac{v}{\\lambda}$$\n",
    "\n",
    "- *in terms of period*\n",
    "\n",
    "$$\\omega = \\frac{1}{t}$$\n",
    "\n",
    "##### Velocity\n",
    "\n",
    "$$v = \\omega t$$\n",
    "\n",
    "##### Amplitude\n",
    "\n",
    "$$A = \\frac{t}{\\omega}$$\n",
    "\n",
    "##### General Transverse Wave Equation \n",
    "\n",
    "$$w(t) = A \\sin(\\omega t)$$"
   ]
  },
  {
   "cell_type": "markdown",
   "metadata": {},
   "source": [
    "## An Interactive transverse wave & physical disection"
   ]
  },
  {
   "cell_type": "code",
   "execution_count": 7,
   "metadata": {
    "scrolled": true
   },
   "outputs": [
    {
     "data": {
      "application/vnd.jupyter.widget-view+json": {
       "model_id": "3b76e363d194472e961e9b2ce68063d0"
      }
     },
     "metadata": {},
     "output_type": "display_data"
    },
    {
     "name": "stderr",
     "output_type": "stream",
     "text": [
      "/usr/lib/python2.7/json/encoder.py:207: DeprecationWarning: Interpreting naive datetime as local 2017-07-13 01:16:20.816267. Please add timezone info to timestamps.\n",
      "  chunks = self.iterencode(o, _one_shot=True)\n"
     ]
    }
   ],
   "source": [
    "t = var('t')\n",
    "Frequency = var('Frequency')\n",
    "Amplitude = var('Amplitude')\n",
    "\n",
    "@interact\n",
    "def interactive_function(Amplitude = slider(0, 10, .05, default=0),\n",
    "                         Frequency = slider(0, 2*pi, .1, default=0)):\n",
    "    w(t) = Amplitude * sin(Frequency * t)\n",
    "    plot(w, (t, 0, 5*pi),frame=True,axes_labels=['Frequency','Amplitude'],axes=False).show()"
   ]
  },
  {
   "cell_type": "markdown",
   "metadata": {},
   "source": [
    "As you can see, amplitude and frequency have the largest effect on the wave. Messing with the period and wavelength. We could introduce more and more physical variables into the system, but it would be a long and painful (not to metion, boring) process. \n",
    "\n",
    "We can disect a wave easily, granted you're willing to pay attention."
   ]
  },
  {
   "cell_type": "markdown",
   "metadata": {},
   "source": [
    "["
   ]
  },
  {
   "cell_type": "markdown",
   "metadata": {},
   "source": ![Wave.png](attachment:Wave.png)
    "Despite neglecting velocity, the actual physical conditions applied to most transverse waves are shown. "
   ]
  },
  {
   "cell_type": "markdown",
   "metadata": {},
   "source": [
    "#### Footnotes\n",
    "___\n",
    "$^1$ However, some waves, such as electro-magnetic waves do not require these. \n",
    "\n",
    "$^2$ Avogadro's number and the mass of an air molecule <http://practicalphysics.org/avogadros-number-and-mass-air-molecule.html>\n",
    "\n",
    "$^3$ How thick is a human hair in inches? <https://www.reference.com/science/thick-human-hair-inches-ee40c0be6538b9ed> **note:** *This is a median taken from the website, and is not specialized to meet specific conditions.*\n",
    "\n",
    "$*$ See calculations below"
   ]
  },
  {
   "cell_type": "code",
   "execution_count": 1,
   "metadata": {},
   "outputs": [
    {
     "data": {
      "text/plain": [
       "0.0000118109073729589"
      ]
     },
     "execution_count": 1,
     "metadata": {},
     "output_type": "execute_result"
    },
    {
     "name": "stderr",
     "output_type": "stream",
     "text": [
      "/usr/lib/python2.7/json/encoder.py:207: DeprecationWarning: Interpreting naive datetime as local 2017-06-12 23:31:51.977724. Please add timezone info to timestamps.\n",
      "  chunks = self.iterencode(o, _one_shot=True)\n"
     ]
    }
   ],
   "source": [
    "4E-10/3.3867E-5"
   ]
  },
  {
   "cell_type": "code",
   "execution_count": null,
   "metadata": {
    "collapsed": true
   },
   "outputs": [],
   "source": []
  }
 ],
 "metadata": {
  "kernelspec": {
   "display_name": "SageMath 7.6",
   "language": "",
   "name": "sagemath"
  },
  "language_info": {
   "codemirror_mode": {
    "name": "ipython",
    "version": 2
   },
   "file_extension": ".py",
   "mimetype": "text/x-python",
   "name": "python",
   "nbconvert_exporter": "python",
   "pygments_lexer": "ipython2",
   "version": "2.7.13"
  },
  "widgets": {
   "application/vnd.jupyter.widget-state+json": {
    "state": {
     "01f86db8e2b8439aacaddbfcc54da464": {
      "model_module": "jupyter-js-widgets",
      "model_module_version": "~2.1.4",
      "model_name": "LayoutModel",
      "state": {
       "_model_module_version": "~2.1.4",
       "_view_module_version": "~2.1.4"
      }
     },
     "0246005e978a4ef29deae8f7a0e2e090": {
      "model_module": "jupyter-js-widgets",
      "model_module_version": "~2.1.4",
      "model_name": "FloatSliderModel",
      "state": {
       "_model_module_version": "~2.1.4",
       "_view_module_version": "~2.1.4",
       "description": "f",
       "layout": "IPY_MODEL_263d037659114a47a5e4f28582493635",
       "max": 12.566370614359172,
       "step": 0.1,
       "value": 3.4
      }
     },
     "0708561fa4244f8ea1860129e6c80a26": {
      "model_module": "jupyter-js-widgets",
      "model_module_version": "~2.1.4",
      "model_name": "LayoutModel",
      "state": {
       "_model_module_version": "~2.1.4",
       "_view_module_version": "~2.1.4"
      }
     },
     "07b0adaf44e04f5a9f6fec485f1c8897": {
      "model_module": "jupyter-js-widgets",
      "model_module_version": "~2.1.4",
      "model_name": "FloatSliderModel",
      "state": {
       "_model_module_version": "~2.1.4",
       "_view_module_version": "~2.1.4",
       "description": "f",
       "layout": "IPY_MODEL_6adfeac3a11d4df0bb678919bab54086",
       "max": 12.566370614359172,
       "step": 0.1,
       "value": 1.8
      }
     },
     "0868afe1a2734df686e9dd703538e2cb": {
      "model_module": "jupyter-js-widgets",
      "model_module_version": "~2.1.4",
      "model_name": "OutputModel",
      "state": {
       "_dom_classes": [],
       "_model_module": "jupyter-js-widgets",
       "_model_module_version": "~2.1.4",
       "_view_module": "jupyter-js-widgets",
       "_view_module_version": "~2.1.4",
       "layout": "IPY_MODEL_aeca3a742fd146fba362f49f6c490fbf",
       "msg_throttle": 1
      }
     },
     "0b91423c93ea4ad6a2d71c073a78d251": {
      "model_module": "jupyter-js-widgets",
      "model_module_version": "~2.1.4",
      "model_name": "LayoutModel",
      "state": {
       "_model_module_version": "~2.1.4",
       "_view_module_version": "~2.1.4"
      }
     },
     "0cb75a2d8ef44bc6a806de7125943e95": {
      "model_module": "jupyter-js-widgets",
      "model_module_version": "~2.1.4",
      "model_name": "FloatSliderModel",
      "state": {
       "_model_module_version": "~2.1.4",
       "_view_module_version": "~2.1.4",
       "description": "Frequency",
       "layout": "IPY_MODEL_62cb1d7601fb405e89babfa64d95e1bb",
       "max": 6.283185307179586,
       "step": 0.1,
       "value": 1.3
      }
     },
     "10b8702d07db4564af3f6379c78ec378": {
      "model_module": "jupyter-js-widgets",
      "model_module_version": "~2.1.4",
      "model_name": "LayoutModel",
      "state": {
       "_model_module_version": "~2.1.4",
       "_view_module_version": "~2.1.4"
      }
     },
     "1677ceb52f2a4597a06bdd57da938a32": {
      "model_module": "jupyter-js-widgets",
      "model_module_version": "~2.1.4",
      "model_name": "FloatSliderModel",
      "state": {
       "_model_module_version": "~2.1.4",
       "_view_module_version": "~2.1.4",
       "description": "f",
       "layout": "IPY_MODEL_01f86db8e2b8439aacaddbfcc54da464",
       "max": 12.566370614359172,
       "step": 0.1
      }
     },
     "16df5b97e1074637a40a1b4285083ee4": {
      "model_module": "jupyter-js-widgets",
      "model_module_version": "~2.1.4",
      "model_name": "LayoutModel",
      "state": {
       "_model_module_version": "~2.1.4",
       "_view_module_version": "~2.1.4"
      }
     },
     "192a2314f87440e5882f1fb8b31fb403": {
      "model_module": "jupyter-js-widgets",
      "model_module_version": "~2.1.4",
      "model_name": "FloatSliderModel",
      "state": {
       "_model_module_version": "~2.1.4",
       "_view_module_version": "~2.1.4",
       "description": "a",
       "layout": "IPY_MODEL_a2deaaa329da48f698d0551731b76ad4",
       "max": 10,
       "step": 0.05,
       "value": 7.2
      }
     },
     "1c9b098b7ef742aa8ea276c0cfcb0ced": {
      "model_module": "jupyter-js-widgets",
      "model_module_version": "~2.1.4",
      "model_name": "LayoutModel",
      "state": {
       "_model_module_version": "~2.1.4",
       "_view_module_version": "~2.1.4"
      }
     },
     "1cf974a0e0d5450589f870ae999a5a39": {
      "model_module": "jupyter-js-widgets",
      "model_module_version": "~2.1.4",
      "model_name": "VBoxModel",
      "state": {
       "_dom_classes": [
        "widget-interact"
       ],
       "_model_module_version": "~2.1.4",
       "_view_module_version": "~2.1.4",
       "children": [
        "IPY_MODEL_eb15b4913824439da639a6a1fa4eabb1",
        "IPY_MODEL_861689025c994666967e97aaa77a814f",
        "IPY_MODEL_82265fb9914b4f159069c274aec3b826"
       ],
       "layout": "IPY_MODEL_3896756200b24ff2be97923c09f13961"
      }
     },
     "20e0f9b3b98b404992a2298f3d8b2a3f": {
      "model_module": "jupyter-js-widgets",
      "model_module_version": "~2.1.4",
      "model_name": "LayoutModel",
      "state": {
       "_model_module_version": "~2.1.4",
       "_view_module_version": "~2.1.4"
      }
     },
     "25ce780ad649446a97c69d6476345a6d": {
      "model_module": "jupyter-js-widgets",
      "model_module_version": "~2.1.4",
      "model_name": "VBoxModel",
      "state": {
       "_dom_classes": [
        "widget-interact"
       ],
       "_model_module_version": "~2.1.4",
       "_view_module_version": "~2.1.4",
       "children": [
        "IPY_MODEL_ca1384a2d65b4090a5fad95c6baa74c3",
        "IPY_MODEL_72bb0f4ddc6a44cdb61d7d878451b290",
        "IPY_MODEL_930ffeb0718d4004baaeef0758676f0f"
       ],
       "layout": "IPY_MODEL_ea5f0806dd9542a7873a65dd6ea0e5f3"
      }
     },
     "263d037659114a47a5e4f28582493635": {
      "model_module": "jupyter-js-widgets",
      "model_module_version": "~2.1.4",
      "model_name": "LayoutModel",
      "state": {
       "_model_module_version": "~2.1.4",
       "_view_module_version": "~2.1.4"
      }
     },
     "295c23edfdc6428ab17a6718c102c3fb": {
      "model_module": "jupyter-js-widgets",
      "model_module_version": "~2.1.4",
      "model_name": "LayoutModel",
      "state": {
       "_model_module_version": "~2.1.4",
       "_view_module_version": "~2.1.4"
      }
     },
     "2d59dfb5aa7e4591987360133d9481e3": {
      "model_module": "jupyter-js-widgets",
      "model_module_version": "~2.1.4",
      "model_name": "OutputModel",
      "state": {
       "_dom_classes": [],
       "_model_module": "jupyter-js-widgets",
       "_model_module_version": "~2.1.4",
       "_view_module": "jupyter-js-widgets",
       "_view_module_version": "~2.1.4",
       "layout": "IPY_MODEL_cc313a140b7a45e7adac88bf93498b9f",
       "msg_throttle": 1
      }
     },
     "31b11ead1c38451cb30485f4094bc5c3": {
      "model_module": "jupyter-js-widgets",
      "model_module_version": "~2.1.4",
      "model_name": "LayoutModel",
      "state": {
       "_model_module_version": "~2.1.4",
       "_view_module_version": "~2.1.4"
      }
     },
     "37c0d429e57b463ab982655c12c174d3": {
      "model_module": "jupyter-js-widgets",
      "model_module_version": "~2.1.4",
      "model_name": "LayoutModel",
      "state": {
       "_model_module_version": "~2.1.4",
       "_view_module_version": "~2.1.4"
      }
     },
     "3896756200b24ff2be97923c09f13961": {
      "model_module": "jupyter-js-widgets",
      "model_module_version": "~2.1.4",
      "model_name": "LayoutModel",
      "state": {
       "_model_module_version": "~2.1.4",
       "_view_module_version": "~2.1.4"
      }
     },
     "38cdddff8bfc45739d9a39ed5303897e": {
      "model_module": "jupyter-js-widgets",
      "model_module_version": "~2.1.4",
      "model_name": "LayoutModel",
      "state": {
       "_model_module_version": "~2.1.4",
       "_view_module_version": "~2.1.4"
      }
     },
     "3c820a939134408395fa0d382389ee4a": {
      "model_module": "jupyter-js-widgets",
      "model_module_version": "~2.1.4",
      "model_name": "LayoutModel",
      "state": {
       "_model_module_version": "~2.1.4",
       "_view_module_version": "~2.1.4"
      }
     },
     "470788856c5d4b60a3a667914d7cd134": {
      "model_module": "jupyter-js-widgets",
      "model_module_version": "~2.1.4",
      "model_name": "LayoutModel",
      "state": {
       "_model_module_version": "~2.1.4",
       "_view_module_version": "~2.1.4"
      }
     },
     "489bb738a7234b98a2f03ccade4679fa": {
      "model_module": "jupyter-js-widgets",
      "model_module_version": "~2.1.4",
      "model_name": "LayoutModel",
      "state": {
       "_model_module_version": "~2.1.4",
       "_view_module_version": "~2.1.4"
      }
     },
     "4970b8a7fe2c4b24992dcffa1ec30388": {
      "model_module": "jupyter-js-widgets",
      "model_module_version": "~2.1.4",
      "model_name": "LayoutModel",
      "state": {
       "_model_module_version": "~2.1.4",
       "_view_module_version": "~2.1.4"
      }
     },
     "5f20de4329eb425db16263759b220e58": {
      "model_module": "jupyter-js-widgets",
      "model_module_version": "~2.1.4",
      "model_name": "FloatSliderModel",
      "state": {
       "_model_module_version": "~2.1.4",
       "_view_module_version": "~2.1.4",
       "description": "Frequency",
       "layout": "IPY_MODEL_10b8702d07db4564af3f6379c78ec378",
       "max": 6.283185307179586,
       "step": 0.1,
       "value": 2.1
      }
     },
     "5f950a73a55a4fba8669ba48b04093b1": {
      "model_module": "jupyter-js-widgets",
      "model_module_version": "~2.1.4",
      "model_name": "VBoxModel",
      "state": {
       "_dom_classes": [
        "widget-interact"
       ],
       "_model_module_version": "~2.1.4",
       "_view_module_version": "~2.1.4",
       "children": [
        "IPY_MODEL_f128f63a74304d04ae6330c52854e284",
        "IPY_MODEL_78e5607e48f94260a6a1b378e2a762e8",
        "IPY_MODEL_eb3da937ca4d4cbaa13c876036dad44a"
       ],
       "layout": "IPY_MODEL_d2c4a47460ff44be826ab3edf51447dd"
      }
     },
     "603140573ec14c28af6025c01c37cca7": {
      "model_module": "jupyter-js-widgets",
      "model_module_version": "~2.1.4",
      "model_name": "OutputModel",
      "state": {
       "_dom_classes": [],
       "_model_module": "jupyter-js-widgets",
       "_model_module_version": "~2.1.4",
       "_view_module": "jupyter-js-widgets",
       "_view_module_version": "~2.1.4",
       "layout": "IPY_MODEL_a73c692f7fd843bcb9fa7561bd2355e8",
       "msg_throttle": 1
      }
     },
     "62ad1d0da4234f72955c59271d06b6a2": {
      "model_module": "jupyter-js-widgets",
      "model_module_version": "~2.1.4",
      "model_name": "OutputModel",
      "state": {
       "_dom_classes": [],
       "_model_module": "jupyter-js-widgets",
       "_model_module_version": "~2.1.4",
       "_view_module": "jupyter-js-widgets",
       "_view_module_version": "~2.1.4",
       "layout": "IPY_MODEL_295c23edfdc6428ab17a6718c102c3fb",
       "msg_throttle": 1
      }
     },
     "62cb1d7601fb405e89babfa64d95e1bb": {
      "model_module": "jupyter-js-widgets",
      "model_module_version": "~2.1.4",
      "model_name": "LayoutModel",
      "state": {
       "_model_module_version": "~2.1.4",
       "_view_module_version": "~2.1.4"
      }
     },
     "6945a38052634af0bd2b1db9f6f7f3c6": {
      "model_module": "jupyter-js-widgets",
      "model_module_version": "~2.1.4",
      "model_name": "LayoutModel",
      "state": {
       "_model_module_version": "~2.1.4",
       "_view_module_version": "~2.1.4"
      }
     },
     "6adfeac3a11d4df0bb678919bab54086": {
      "model_module": "jupyter-js-widgets",
      "model_module_version": "~2.1.4",
      "model_name": "LayoutModel",
      "state": {
       "_model_module_version": "~2.1.4",
       "_view_module_version": "~2.1.4"
      }
     },
     "72bb0f4ddc6a44cdb61d7d878451b290": {
      "model_module": "jupyter-js-widgets",
      "model_module_version": "~2.1.4",
      "model_name": "FloatSliderModel",
      "state": {
       "_model_module_version": "~2.1.4",
       "_view_module_version": "~2.1.4",
       "description": "f",
       "layout": "IPY_MODEL_31b11ead1c38451cb30485f4094bc5c3",
       "max": 12.566370614359172,
       "step": 0.1,
       "value": 12.5
      }
     },
     "738837e11ae44c58a4972aff4b46004f": {
      "model_module": "jupyter-js-widgets",
      "model_module_version": "~2.1.4",
      "model_name": "FloatSliderModel",
      "state": {
       "_model_module_version": "~2.1.4",
       "_view_module_version": "~2.1.4",
       "description": "Amplitude",
       "layout": "IPY_MODEL_7adfae321fce420e8627de6de28bc81e",
       "max": 10,
       "step": 0.05,
       "value": 1.4
      }
     },
     "78e5607e48f94260a6a1b378e2a762e8": {
      "model_module": "jupyter-js-widgets",
      "model_module_version": "~2.1.4",
      "model_name": "FloatSliderModel",
      "state": {
       "_model_module_version": "~2.1.4",
       "_view_module_version": "~2.1.4",
       "description": "f",
       "layout": "IPY_MODEL_88cfdc655dd24aa1ab98af15a16208cd",
       "max": 6.283185307179586,
       "step": 0.1,
       "value": 2.4
      }
     },
     "79794c86a2dc4554864fba3a44ed53b8": {
      "model_module": "jupyter-js-widgets",
      "model_module_version": "~2.1.4",
      "model_name": "LayoutModel",
      "state": {
       "_model_module_version": "~2.1.4",
       "_view_module_version": "~2.1.4"
      }
     },
     "7adfae321fce420e8627de6de28bc81e": {
      "model_module": "jupyter-js-widgets",
      "model_module_version": "~2.1.4",
      "model_name": "LayoutModel",
      "state": {
       "_model_module_version": "~2.1.4",
       "_view_module_version": "~2.1.4"
      }
     },
     "7bfaa7ceb28b4ad09e5753b4e69668e1": {
      "model_module": "jupyter-js-widgets",
      "model_module_version": "~2.1.4",
      "model_name": "FloatSliderModel",
      "state": {
       "_model_module_version": "~2.1.4",
       "_view_module_version": "~2.1.4",
       "description": "Amplitude",
       "layout": "IPY_MODEL_0b91423c93ea4ad6a2d71c073a78d251",
       "max": 10,
       "step": 0.05,
       "value": 1.1
      }
     },
     "7f5d9f5d9639487fa0407c7578eaad08": {
      "model_module": "jupyter-js-widgets",
      "model_module_version": "~2.1.4",
      "model_name": "LayoutModel",
      "state": {
       "_model_module_version": "~2.1.4",
       "_view_module_version": "~2.1.4"
      }
     },
     "82265fb9914b4f159069c274aec3b826": {
      "model_module": "jupyter-js-widgets",
      "model_module_version": "~2.1.4",
      "model_name": "OutputModel",
      "state": {
       "_dom_classes": [],
       "_model_module": "jupyter-js-widgets",
       "_model_module_version": "~2.1.4",
       "_view_module": "jupyter-js-widgets",
       "_view_module_version": "~2.1.4",
       "layout": "IPY_MODEL_38cdddff8bfc45739d9a39ed5303897e",
       "msg_throttle": 1
      }
     },
     "861689025c994666967e97aaa77a814f": {
      "model_module": "jupyter-js-widgets",
      "model_module_version": "~2.1.4",
      "model_name": "FloatSliderModel",
      "state": {
       "_model_module_version": "~2.1.4",
       "_view_module_version": "~2.1.4",
       "description": "Frequency",
       "layout": "IPY_MODEL_489bb738a7234b98a2f03ccade4679fa",
       "max": 6.283185307179586,
       "step": 0.1,
       "value": 0.4
      }
     },
     "8620431c96784a5c9c721a64955f94a6": {
      "model_module": "jupyter-js-widgets",
      "model_module_version": "~2.1.4",
      "model_name": "LayoutModel",
      "state": {
       "_model_module_version": "~2.1.4",
       "_view_module_version": "~2.1.4"
      }
     },
     "871783d2e2d841c18e920a29c1659fd7": {
      "model_module": "jupyter-js-widgets",
      "model_module_version": "~2.1.4",
      "model_name": "FloatSliderModel",
      "state": {
       "_model_module_version": "~2.1.4",
       "_view_module_version": "~2.1.4",
       "description": "Frequency",
       "layout": "IPY_MODEL_9c22f8534ad543b69a1e7b7d0e0ef424",
       "max": 6.283185307179586,
       "step": 0.1,
       "value": 0.4
      }
     },
     "88cfdc655dd24aa1ab98af15a16208cd": {
      "model_module": "jupyter-js-widgets",
      "model_module_version": "~2.1.4",
      "model_name": "LayoutModel",
      "state": {
       "_model_module_version": "~2.1.4",
       "_view_module_version": "~2.1.4"
      }
     },
     "8f66c9330975498d8f5fbacad5327ea3": {
      "model_module": "jupyter-js-widgets",
      "model_module_version": "~2.1.4",
      "model_name": "LayoutModel",
      "state": {
       "_model_module_version": "~2.1.4",
       "_view_module_version": "~2.1.4"
      }
     },
     "905c18a39c3e420db21966e88b0d1831": {
      "model_module": "jupyter-js-widgets",
      "model_module_version": "~2.1.4",
      "model_name": "LayoutModel",
      "state": {
       "_model_module_version": "~2.1.4",
       "_view_module_version": "~2.1.4"
      }
     },
     "90a3176f777649799cb6142172919502": {
      "model_module": "jupyter-js-widgets",
      "model_module_version": "~2.1.4",
      "model_name": "LayoutModel",
      "state": {
       "_model_module_version": "~2.1.4",
       "_view_module_version": "~2.1.4"
      }
     },
     "930ffeb0718d4004baaeef0758676f0f": {
      "model_module": "jupyter-js-widgets",
      "model_module_version": "~2.1.4",
      "model_name": "OutputModel",
      "state": {
       "_dom_classes": [],
       "_model_module": "jupyter-js-widgets",
       "_model_module_version": "~2.1.4",
       "_view_module": "jupyter-js-widgets",
       "_view_module_version": "~2.1.4",
       "layout": "IPY_MODEL_16df5b97e1074637a40a1b4285083ee4",
       "msg_throttle": 1
      }
     },
     "998b0460d00448f3ba4933d467e9b1ce": {
      "model_module": "jupyter-js-widgets",
      "model_module_version": "~2.1.4",
      "model_name": "VBoxModel",
      "state": {
       "_dom_classes": [
        "widget-interact"
       ],
       "_model_module_version": "~2.1.4",
       "_view_module_version": "~2.1.4",
       "children": [
        "IPY_MODEL_7bfaa7ceb28b4ad09e5753b4e69668e1",
        "IPY_MODEL_5f20de4329eb425db16263759b220e58",
        "IPY_MODEL_e43efce40b54444787f7b690d53facad"
       ],
       "layout": "IPY_MODEL_79794c86a2dc4554864fba3a44ed53b8"
      }
     },
     "9c22f8534ad543b69a1e7b7d0e0ef424": {
      "model_module": "jupyter-js-widgets",
      "model_module_version": "~2.1.4",
      "model_name": "LayoutModel",
      "state": {
       "_model_module_version": "~2.1.4",
       "_view_module_version": "~2.1.4"
      }
     },
     "a28996067c344f9a90d22808a87b209c": {
      "model_module": "jupyter-js-widgets",
      "model_module_version": "~2.1.4",
      "model_name": "VBoxModel",
      "state": {
       "_dom_classes": [
        "widget-interact"
       ],
       "_model_module_version": "~2.1.4",
       "_view_module_version": "~2.1.4",
       "children": [
        "IPY_MODEL_738837e11ae44c58a4972aff4b46004f",
        "IPY_MODEL_dcc3f611509e42f580f95355beafa43a",
        "IPY_MODEL_0868afe1a2734df686e9dd703538e2cb"
       ],
       "layout": "IPY_MODEL_0708561fa4244f8ea1860129e6c80a26"
      }
     },
     "a2deaaa329da48f698d0551731b76ad4": {
      "model_module": "jupyter-js-widgets",
      "model_module_version": "~2.1.4",
      "model_name": "LayoutModel",
      "state": {
       "_model_module_version": "~2.1.4",
       "_view_module_version": "~2.1.4"
      }
     },
     "a38025c5ba1b46b8a591a91f69c0715e": {
      "model_module": "jupyter-js-widgets",
      "model_module_version": "~2.1.4",
      "model_name": "VBoxModel",
      "state": {
       "_dom_classes": [
        "widget-interact"
       ],
       "_model_module_version": "~2.1.4",
       "_view_module_version": "~2.1.4",
       "children": [
        "IPY_MODEL_ba83b34db5ab403788499887257eb1af",
        "IPY_MODEL_0246005e978a4ef29deae8f7a0e2e090",
        "IPY_MODEL_f8989fe516754579b96f18109afdd928"
       ],
       "layout": "IPY_MODEL_20e0f9b3b98b404992a2298f3d8b2a3f"
      }
     },
     "a427fc9c20374a70a07ceb54ea6220be": {
      "model_module": "jupyter-js-widgets",
      "model_module_version": "~2.1.4",
      "model_name": "VBoxModel",
      "state": {
       "_dom_classes": [
        "widget-interact"
       ],
       "_model_module_version": "~2.1.4",
       "_view_module_version": "~2.1.4",
       "children": [
        "IPY_MODEL_192a2314f87440e5882f1fb8b31fb403",
        "IPY_MODEL_1677ceb52f2a4597a06bdd57da938a32",
        "IPY_MODEL_2d59dfb5aa7e4591987360133d9481e3"
       ],
       "layout": "IPY_MODEL_3c820a939134408395fa0d382389ee4a"
      }
     },
     "a68fb77a6afa4c47ac71a5786cb8b2de": {
      "model_module": "jupyter-js-widgets",
      "model_module_version": "~2.1.4",
      "model_name": "FloatSliderModel",
      "state": {
       "_model_module_version": "~2.1.4",
       "_view_module_version": "~2.1.4",
       "description": "a",
       "layout": "IPY_MODEL_470788856c5d4b60a3a667914d7cd134",
       "max": 10,
       "step": 0.05,
       "value": 2.5
      }
     },
     "a73c692f7fd843bcb9fa7561bd2355e8": {
      "model_module": "jupyter-js-widgets",
      "model_module_version": "~2.1.4",
      "model_name": "LayoutModel",
      "state": {
       "_model_module_version": "~2.1.4",
       "_view_module_version": "~2.1.4"
      }
     },
     "a75e67d174664aae94a0789a4a962100": {
      "model_module": "jupyter-js-widgets",
      "model_module_version": "~2.1.4",
      "model_name": "LayoutModel",
      "state": {
       "_model_module_version": "~2.1.4",
       "_view_module_version": "~2.1.4"
      }
     },
     "ad9bfa2cb64f43a3aa80922cb0dca9bd": {
      "model_module": "jupyter-js-widgets",
      "model_module_version": "~2.1.4",
      "model_name": "LayoutModel",
      "state": {
       "_model_module_version": "~2.1.4",
       "_view_module_version": "~2.1.4"
      }
     },
     "aeca3a742fd146fba362f49f6c490fbf": {
      "model_module": "jupyter-js-widgets",
      "model_module_version": "~2.1.4",
      "model_name": "LayoutModel",
      "state": {
       "_model_module_version": "~2.1.4",
       "_view_module_version": "~2.1.4"
      }
     },
     "b6cf8bd24fce44be989090d0cfbb42b6": {
      "model_module": "jupyter-js-widgets",
      "model_module_version": "~2.1.4",
      "model_name": "FloatSliderModel",
      "state": {
       "_model_module_version": "~2.1.4",
       "_view_module_version": "~2.1.4",
       "description": "Amplitude",
       "layout": "IPY_MODEL_b8bdae0b8dd041b0af8d298ec3666cd4",
       "max": 10,
       "step": 0.05,
       "value": 0.4
      }
     },
     "b8bdae0b8dd041b0af8d298ec3666cd4": {
      "model_module": "jupyter-js-widgets",
      "model_module_version": "~2.1.4",
      "model_name": "LayoutModel",
      "state": {
       "_model_module_version": "~2.1.4",
       "_view_module_version": "~2.1.4"
      }
     },
     "ba83b34db5ab403788499887257eb1af": {
      "model_module": "jupyter-js-widgets",
      "model_module_version": "~2.1.4",
      "model_name": "FloatSliderModel",
      "state": {
       "_model_module_version": "~2.1.4",
       "_view_module_version": "~2.1.4",
       "description": "a",
       "layout": "IPY_MODEL_ad9bfa2cb64f43a3aa80922cb0dca9bd",
       "max": 10,
       "step": 0.05,
       "value": 9.8
      }
     },
     "ca1384a2d65b4090a5fad95c6baa74c3": {
      "model_module": "jupyter-js-widgets",
      "model_module_version": "~2.1.4",
      "model_name": "FloatSliderModel",
      "state": {
       "_model_module_version": "~2.1.4",
       "_view_module_version": "~2.1.4",
       "description": "a",
       "layout": "IPY_MODEL_f0d60492fe2048e8899a404e834cdc66",
       "max": 10,
       "step": 0.05,
       "value": 1.8
      }
     },
     "cc313a140b7a45e7adac88bf93498b9f": {
      "model_module": "jupyter-js-widgets",
      "model_module_version": "~2.1.4",
      "model_name": "LayoutModel",
      "state": {
       "_model_module_version": "~2.1.4",
       "_view_module_version": "~2.1.4"
      }
     },
     "d2c4a47460ff44be826ab3edf51447dd": {
      "model_module": "jupyter-js-widgets",
      "model_module_version": "~2.1.4",
      "model_name": "LayoutModel",
      "state": {
       "_model_module_version": "~2.1.4",
       "_view_module_version": "~2.1.4"
      }
     },
     "d3ccbccee046471a86e9ebfd19385b66": {
      "model_module": "jupyter-js-widgets",
      "model_module_version": "~2.1.4",
      "model_name": "VBoxModel",
      "state": {
       "_dom_classes": [
        "widget-interact"
       ],
       "_model_module_version": "~2.1.4",
       "_view_module_version": "~2.1.4",
       "children": [
        "IPY_MODEL_a68fb77a6afa4c47ac71a5786cb8b2de",
        "IPY_MODEL_07b0adaf44e04f5a9f6fec485f1c8897",
        "IPY_MODEL_603140573ec14c28af6025c01c37cca7"
       ],
       "layout": "IPY_MODEL_8f66c9330975498d8f5fbacad5327ea3"
      }
     },
     "d78f244d63044cc3bc3ee39d5c1239e8": {
      "model_module": "jupyter-js-widgets",
      "model_module_version": "~2.1.4",
      "model_name": "VBoxModel",
      "state": {
       "_dom_classes": [
        "widget-interact"
       ],
       "_model_module_version": "~2.1.4",
       "_view_module_version": "~2.1.4",
       "children": [
        "IPY_MODEL_b6cf8bd24fce44be989090d0cfbb42b6",
        "IPY_MODEL_871783d2e2d841c18e920a29c1659fd7",
        "IPY_MODEL_e721e0eecb2949ec968efa416a990a1f"
       ],
       "layout": "IPY_MODEL_7f5d9f5d9639487fa0407c7578eaad08"
      }
     },
     "dcc3f611509e42f580f95355beafa43a": {
      "model_module": "jupyter-js-widgets",
      "model_module_version": "~2.1.4",
      "model_name": "FloatSliderModel",
      "state": {
       "_model_module_version": "~2.1.4",
       "_view_module_version": "~2.1.4",
       "description": "Frequency",
       "layout": "IPY_MODEL_6945a38052634af0bd2b1db9f6f7f3c6",
       "max": 6.283185307179586,
       "step": 0.1,
       "value": 1.9
      }
     },
     "e43efce40b54444787f7b690d53facad": {
      "model_module": "jupyter-js-widgets",
      "model_module_version": "~2.1.4",
      "model_name": "OutputModel",
      "state": {
       "_dom_classes": [],
       "_model_module": "jupyter-js-widgets",
       "_model_module_version": "~2.1.4",
       "_view_module": "jupyter-js-widgets",
       "_view_module_version": "~2.1.4",
       "layout": "IPY_MODEL_37c0d429e57b463ab982655c12c174d3",
       "msg_throttle": 1
      }
     },
     "e44b2fe58d9642d2ba630e51b356dbf1": {
      "model_module": "jupyter-js-widgets",
      "model_module_version": "~2.1.4",
      "model_name": "LayoutModel",
      "state": {
       "_model_module_version": "~2.1.4",
       "_view_module_version": "~2.1.4"
      }
     },
     "e721e0eecb2949ec968efa416a990a1f": {
      "model_module": "jupyter-js-widgets",
      "model_module_version": "~2.1.4",
      "model_name": "OutputModel",
      "state": {
       "_dom_classes": [],
       "_model_module": "jupyter-js-widgets",
       "_model_module_version": "~2.1.4",
       "_view_module": "jupyter-js-widgets",
       "_view_module_version": "~2.1.4",
       "layout": "IPY_MODEL_e44b2fe58d9642d2ba630e51b356dbf1",
       "msg_throttle": 1
      }
     },
     "ea5f0806dd9542a7873a65dd6ea0e5f3": {
      "model_module": "jupyter-js-widgets",
      "model_module_version": "~2.1.4",
      "model_name": "LayoutModel",
      "state": {
       "_model_module_version": "~2.1.4",
       "_view_module_version": "~2.1.4"
      }
     },
     "eb15b4913824439da639a6a1fa4eabb1": {
      "model_module": "jupyter-js-widgets",
      "model_module_version": "~2.1.4",
      "model_name": "FloatSliderModel",
      "state": {
       "_model_module_version": "~2.1.4",
       "_view_module_version": "~2.1.4",
       "description": "Amplitude",
       "layout": "IPY_MODEL_1c9b098b7ef742aa8ea276c0cfcb0ced",
       "max": 10,
       "step": 0.05,
       "value": 1
      }
     },
     "eb3da937ca4d4cbaa13c876036dad44a": {
      "model_module": "jupyter-js-widgets",
      "model_module_version": "~2.1.4",
      "model_name": "OutputModel",
      "state": {
       "_dom_classes": [],
       "_model_module": "jupyter-js-widgets",
       "_model_module_version": "~2.1.4",
       "_view_module": "jupyter-js-widgets",
       "_view_module_version": "~2.1.4",
       "layout": "IPY_MODEL_8620431c96784a5c9c721a64955f94a6",
       "msg_throttle": 1
      }
     },
     "ef58417ac5ba4b8db5d22ca56cb95e2b": {
      "model_module": "jupyter-js-widgets",
      "model_module_version": "~2.1.4",
      "model_name": "FloatSliderModel",
      "state": {
       "_model_module_version": "~2.1.4",
       "_view_module_version": "~2.1.4",
       "description": "Amplitude",
       "layout": "IPY_MODEL_905c18a39c3e420db21966e88b0d1831",
       "max": 10,
       "step": 0.05,
       "value": 2.05
      }
     },
     "f0d60492fe2048e8899a404e834cdc66": {
      "model_module": "jupyter-js-widgets",
      "model_module_version": "~2.1.4",
      "model_name": "LayoutModel",
      "state": {
       "_model_module_version": "~2.1.4",
       "_view_module_version": "~2.1.4"
      }
     },
     "f128f63a74304d04ae6330c52854e284": {
      "model_module": "jupyter-js-widgets",
      "model_module_version": "~2.1.4",
      "model_name": "FloatSliderModel",
      "state": {
       "_model_module_version": "~2.1.4",
       "_view_module_version": "~2.1.4",
       "description": "a",
       "layout": "IPY_MODEL_a75e67d174664aae94a0789a4a962100",
       "max": 10,
       "step": 0.05,
       "value": 0.3
      }
     },
     "f888e03942b04a6d92482425611446d0": {
      "model_module": "jupyter-js-widgets",
      "model_module_version": "~2.1.4",
      "model_name": "VBoxModel",
      "state": {
       "_dom_classes": [
        "widget-interact"
       ],
       "_model_module_version": "~2.1.4",
       "_view_module_version": "~2.1.4",
       "children": [
        "IPY_MODEL_ef58417ac5ba4b8db5d22ca56cb95e2b",
        "IPY_MODEL_0cb75a2d8ef44bc6a806de7125943e95",
        "IPY_MODEL_62ad1d0da4234f72955c59271d06b6a2"
       ],
       "layout": "IPY_MODEL_90a3176f777649799cb6142172919502"
      }
     },
     "f8989fe516754579b96f18109afdd928": {
      "model_module": "jupyter-js-widgets",
      "model_module_version": "~2.1.4",
      "model_name": "OutputModel",
      "state": {
       "_dom_classes": [],
       "_model_module": "jupyter-js-widgets",
       "_model_module_version": "~2.1.4",
       "_view_module": "jupyter-js-widgets",
       "_view_module_version": "~2.1.4",
       "layout": "IPY_MODEL_4970b8a7fe2c4b24992dcffa1ec30388",
       "msg_throttle": 1
      }
     }
    },
    "version_major": 1,
    "version_minor": 0
   }
  }
 },
 "nbformat": 4,
 "nbformat_minor": 2
}
